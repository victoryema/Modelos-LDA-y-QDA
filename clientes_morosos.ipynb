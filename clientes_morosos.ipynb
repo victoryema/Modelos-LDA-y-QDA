{
 "cells": [
  {
   "cell_type": "markdown",
   "metadata": {},
   "source": [
    "## Modelo generativo LDA y QDA para predecir si el cliente entrará en morosidad o no"
   ]
  },
  {
   "cell_type": "markdown",
   "metadata": {},
   "source": [
    "### Importando las librerías necesarias"
   ]
  },
  {
   "cell_type": "code",
   "execution_count": 182,
   "metadata": {},
   "outputs": [],
   "source": [
    "import pandas as pd\n",
    "import numpy as np\n",
    "import matplotlib.pyplot as plt\n",
    "import seaborn as sns\n",
    "\n",
    "import warnings\n",
    "warnings.filterwarnings('ignore')\n",
    "\n",
    "from sklearn.preprocessing import LabelEncoder, StandardScaler, LabelBinarizer\n",
    "from sklearn.model_selection import train_test_split, cross_val_score\n",
    "from sklearn.metrics import classification_report\n",
    "\n",
    "from sklearn.discriminant_analysis import LinearDiscriminantAnalysis, QuadraticDiscriminantAnalysis"
   ]
  },
  {
   "cell_type": "markdown",
   "metadata": {},
   "source": [
    "### Importando el dataset"
   ]
  },
  {
   "cell_type": "markdown",
   "metadata": {},
   "source": [
    "> Importando datos de default_credit.csv"
   ]
  },
  {
   "cell_type": "code",
   "execution_count": 183,
   "metadata": {},
   "outputs": [],
   "source": [
    "df = pd.read_csv('default_credit.csv')"
   ]
  },
  {
   "cell_type": "markdown",
   "metadata": {},
   "source": [
    "### Observando el conjunto de datos"
   ]
  },
  {
   "cell_type": "markdown",
   "metadata": {},
   "source": [
    "> Imprimimos las primeras y últimas 5 observaciones\n",
    "\n",
    "> Observamos que hay 10000 observaciones, 4 atributos y un vector objetivo\n",
    "\n",
    "> Vemos que debemos eliminar la columna index, ya que no aporta nada y los atributos default y student deberemos binarizarlas"
   ]
  },
  {
   "cell_type": "code",
   "execution_count": 184,
   "metadata": {},
   "outputs": [
    {
     "data": {
      "text/html": [
       "<div>\n",
       "<style scoped>\n",
       "    .dataframe tbody tr th:only-of-type {\n",
       "        vertical-align: middle;\n",
       "    }\n",
       "\n",
       "    .dataframe tbody tr th {\n",
       "        vertical-align: top;\n",
       "    }\n",
       "\n",
       "    .dataframe thead th {\n",
       "        text-align: right;\n",
       "    }\n",
       "</style>\n",
       "<table border=\"1\" class=\"dataframe\">\n",
       "  <thead>\n",
       "    <tr style=\"text-align: right;\">\n",
       "      <th></th>\n",
       "      <th>index</th>\n",
       "      <th>default</th>\n",
       "      <th>student</th>\n",
       "      <th>balance</th>\n",
       "      <th>income</th>\n",
       "    </tr>\n",
       "  </thead>\n",
       "  <tbody>\n",
       "    <tr>\n",
       "      <th>0</th>\n",
       "      <td>1</td>\n",
       "      <td>No</td>\n",
       "      <td>No</td>\n",
       "      <td>729.526495</td>\n",
       "      <td>44361.625074</td>\n",
       "    </tr>\n",
       "    <tr>\n",
       "      <th>1</th>\n",
       "      <td>2</td>\n",
       "      <td>No</td>\n",
       "      <td>Yes</td>\n",
       "      <td>817.180407</td>\n",
       "      <td>12106.134700</td>\n",
       "    </tr>\n",
       "    <tr>\n",
       "      <th>2</th>\n",
       "      <td>3</td>\n",
       "      <td>No</td>\n",
       "      <td>No</td>\n",
       "      <td>1073.549164</td>\n",
       "      <td>31767.138947</td>\n",
       "    </tr>\n",
       "    <tr>\n",
       "      <th>3</th>\n",
       "      <td>4</td>\n",
       "      <td>No</td>\n",
       "      <td>No</td>\n",
       "      <td>529.250605</td>\n",
       "      <td>35704.493935</td>\n",
       "    </tr>\n",
       "    <tr>\n",
       "      <th>4</th>\n",
       "      <td>5</td>\n",
       "      <td>No</td>\n",
       "      <td>No</td>\n",
       "      <td>785.655883</td>\n",
       "      <td>38463.495879</td>\n",
       "    </tr>\n",
       "    <tr>\n",
       "      <th>...</th>\n",
       "      <td>...</td>\n",
       "      <td>...</td>\n",
       "      <td>...</td>\n",
       "      <td>...</td>\n",
       "      <td>...</td>\n",
       "    </tr>\n",
       "    <tr>\n",
       "      <th>9995</th>\n",
       "      <td>9996</td>\n",
       "      <td>No</td>\n",
       "      <td>No</td>\n",
       "      <td>711.555020</td>\n",
       "      <td>52992.378914</td>\n",
       "    </tr>\n",
       "    <tr>\n",
       "      <th>9996</th>\n",
       "      <td>9997</td>\n",
       "      <td>No</td>\n",
       "      <td>No</td>\n",
       "      <td>757.962918</td>\n",
       "      <td>19660.721768</td>\n",
       "    </tr>\n",
       "    <tr>\n",
       "      <th>9997</th>\n",
       "      <td>9998</td>\n",
       "      <td>No</td>\n",
       "      <td>No</td>\n",
       "      <td>845.411989</td>\n",
       "      <td>58636.156984</td>\n",
       "    </tr>\n",
       "    <tr>\n",
       "      <th>9998</th>\n",
       "      <td>9999</td>\n",
       "      <td>No</td>\n",
       "      <td>No</td>\n",
       "      <td>1569.009053</td>\n",
       "      <td>36669.112365</td>\n",
       "    </tr>\n",
       "    <tr>\n",
       "      <th>9999</th>\n",
       "      <td>10000</td>\n",
       "      <td>No</td>\n",
       "      <td>Yes</td>\n",
       "      <td>200.922183</td>\n",
       "      <td>16862.952321</td>\n",
       "    </tr>\n",
       "  </tbody>\n",
       "</table>\n",
       "<p>10000 rows × 5 columns</p>\n",
       "</div>"
      ],
      "text/plain": [
       "      index default student      balance        income\n",
       "0         1      No      No   729.526495  44361.625074\n",
       "1         2      No     Yes   817.180407  12106.134700\n",
       "2         3      No      No  1073.549164  31767.138947\n",
       "3         4      No      No   529.250605  35704.493935\n",
       "4         5      No      No   785.655883  38463.495879\n",
       "...     ...     ...     ...          ...           ...\n",
       "9995   9996      No      No   711.555020  52992.378914\n",
       "9996   9997      No      No   757.962918  19660.721768\n",
       "9997   9998      No      No   845.411989  58636.156984\n",
       "9998   9999      No      No  1569.009053  36669.112365\n",
       "9999  10000      No     Yes   200.922183  16862.952321\n",
       "\n",
       "[10000 rows x 5 columns]"
      ]
     },
     "execution_count": 184,
     "metadata": {},
     "output_type": "execute_result"
    }
   ],
   "source": [
    "df"
   ]
  },
  {
   "cell_type": "code",
   "execution_count": 185,
   "metadata": {},
   "outputs": [],
   "source": [
    "df.drop(columns = \"index\", inplace = True)"
   ]
  },
  {
   "cell_type": "code",
   "execution_count": 186,
   "metadata": {},
   "outputs": [
    {
     "data": {
      "text/html": [
       "<div>\n",
       "<style scoped>\n",
       "    .dataframe tbody tr th:only-of-type {\n",
       "        vertical-align: middle;\n",
       "    }\n",
       "\n",
       "    .dataframe tbody tr th {\n",
       "        vertical-align: top;\n",
       "    }\n",
       "\n",
       "    .dataframe thead th {\n",
       "        text-align: right;\n",
       "    }\n",
       "</style>\n",
       "<table border=\"1\" class=\"dataframe\">\n",
       "  <thead>\n",
       "    <tr style=\"text-align: right;\">\n",
       "      <th></th>\n",
       "      <th>default</th>\n",
       "      <th>student</th>\n",
       "      <th>balance</th>\n",
       "      <th>income</th>\n",
       "    </tr>\n",
       "  </thead>\n",
       "  <tbody>\n",
       "    <tr>\n",
       "      <th>0</th>\n",
       "      <td>No</td>\n",
       "      <td>No</td>\n",
       "      <td>729.526495</td>\n",
       "      <td>44361.625074</td>\n",
       "    </tr>\n",
       "    <tr>\n",
       "      <th>1</th>\n",
       "      <td>No</td>\n",
       "      <td>Yes</td>\n",
       "      <td>817.180407</td>\n",
       "      <td>12106.134700</td>\n",
       "    </tr>\n",
       "    <tr>\n",
       "      <th>2</th>\n",
       "      <td>No</td>\n",
       "      <td>No</td>\n",
       "      <td>1073.549164</td>\n",
       "      <td>31767.138947</td>\n",
       "    </tr>\n",
       "    <tr>\n",
       "      <th>3</th>\n",
       "      <td>No</td>\n",
       "      <td>No</td>\n",
       "      <td>529.250605</td>\n",
       "      <td>35704.493935</td>\n",
       "    </tr>\n",
       "    <tr>\n",
       "      <th>4</th>\n",
       "      <td>No</td>\n",
       "      <td>No</td>\n",
       "      <td>785.655883</td>\n",
       "      <td>38463.495879</td>\n",
       "    </tr>\n",
       "    <tr>\n",
       "      <th>...</th>\n",
       "      <td>...</td>\n",
       "      <td>...</td>\n",
       "      <td>...</td>\n",
       "      <td>...</td>\n",
       "    </tr>\n",
       "    <tr>\n",
       "      <th>9995</th>\n",
       "      <td>No</td>\n",
       "      <td>No</td>\n",
       "      <td>711.555020</td>\n",
       "      <td>52992.378914</td>\n",
       "    </tr>\n",
       "    <tr>\n",
       "      <th>9996</th>\n",
       "      <td>No</td>\n",
       "      <td>No</td>\n",
       "      <td>757.962918</td>\n",
       "      <td>19660.721768</td>\n",
       "    </tr>\n",
       "    <tr>\n",
       "      <th>9997</th>\n",
       "      <td>No</td>\n",
       "      <td>No</td>\n",
       "      <td>845.411989</td>\n",
       "      <td>58636.156984</td>\n",
       "    </tr>\n",
       "    <tr>\n",
       "      <th>9998</th>\n",
       "      <td>No</td>\n",
       "      <td>No</td>\n",
       "      <td>1569.009053</td>\n",
       "      <td>36669.112365</td>\n",
       "    </tr>\n",
       "    <tr>\n",
       "      <th>9999</th>\n",
       "      <td>No</td>\n",
       "      <td>Yes</td>\n",
       "      <td>200.922183</td>\n",
       "      <td>16862.952321</td>\n",
       "    </tr>\n",
       "  </tbody>\n",
       "</table>\n",
       "<p>10000 rows × 4 columns</p>\n",
       "</div>"
      ],
      "text/plain": [
       "     default student      balance        income\n",
       "0         No      No   729.526495  44361.625074\n",
       "1         No     Yes   817.180407  12106.134700\n",
       "2         No      No  1073.549164  31767.138947\n",
       "3         No      No   529.250605  35704.493935\n",
       "4         No      No   785.655883  38463.495879\n",
       "...      ...     ...          ...           ...\n",
       "9995      No      No   711.555020  52992.378914\n",
       "9996      No      No   757.962918  19660.721768\n",
       "9997      No      No   845.411989  58636.156984\n",
       "9998      No      No  1569.009053  36669.112365\n",
       "9999      No     Yes   200.922183  16862.952321\n",
       "\n",
       "[10000 rows x 4 columns]"
      ]
     },
     "execution_count": 186,
     "metadata": {},
     "output_type": "execute_result"
    }
   ],
   "source": [
    "df"
   ]
  },
  {
   "cell_type": "markdown",
   "metadata": {},
   "source": [
    "#### Pequeño resumen de los atributos:"
   ]
  },
  {
   "cell_type": "markdown",
   "metadata": {},
   "source": [
    "1. **`default`:** Variable binaria. Registra si el cliente entró en morosidad o no\n",
    "2. **`income`:** Ingreso promedio declarado por el cliente.\n",
    "3. **`balance`:** Total del saldo en la cuenta de crédito.\n",
    "4. **`student`:** Variable binaria, registra si el cliente es estudiante o no.\n"
   ]
  },
  {
   "cell_type": "markdown",
   "metadata": {},
   "source": [
    "### Método describe() en el dataset"
   ]
  },
  {
   "cell_type": "markdown",
   "metadata": {},
   "source": [
    "> El método describe() puede mostrar diferentes valores, como la cantidad, promedio, desviación estándard, valor mínimo, etc. de las variables numéricas"
   ]
  },
  {
   "cell_type": "code",
   "execution_count": 187,
   "metadata": {},
   "outputs": [
    {
     "data": {
      "text/html": [
       "<div>\n",
       "<style scoped>\n",
       "    .dataframe tbody tr th:only-of-type {\n",
       "        vertical-align: middle;\n",
       "    }\n",
       "\n",
       "    .dataframe tbody tr th {\n",
       "        vertical-align: top;\n",
       "    }\n",
       "\n",
       "    .dataframe thead th {\n",
       "        text-align: right;\n",
       "    }\n",
       "</style>\n",
       "<table border=\"1\" class=\"dataframe\">\n",
       "  <thead>\n",
       "    <tr style=\"text-align: right;\">\n",
       "      <th></th>\n",
       "      <th>balance</th>\n",
       "      <th>income</th>\n",
       "    </tr>\n",
       "  </thead>\n",
       "  <tbody>\n",
       "    <tr>\n",
       "      <th>count</th>\n",
       "      <td>10000.000000</td>\n",
       "      <td>10000.000000</td>\n",
       "    </tr>\n",
       "    <tr>\n",
       "      <th>mean</th>\n",
       "      <td>835.374886</td>\n",
       "      <td>33516.981876</td>\n",
       "    </tr>\n",
       "    <tr>\n",
       "      <th>std</th>\n",
       "      <td>483.714985</td>\n",
       "      <td>13336.639563</td>\n",
       "    </tr>\n",
       "    <tr>\n",
       "      <th>min</th>\n",
       "      <td>0.000000</td>\n",
       "      <td>771.967729</td>\n",
       "    </tr>\n",
       "    <tr>\n",
       "      <th>25%</th>\n",
       "      <td>481.731105</td>\n",
       "      <td>21340.462903</td>\n",
       "    </tr>\n",
       "    <tr>\n",
       "      <th>50%</th>\n",
       "      <td>823.636973</td>\n",
       "      <td>34552.644802</td>\n",
       "    </tr>\n",
       "    <tr>\n",
       "      <th>75%</th>\n",
       "      <td>1166.308386</td>\n",
       "      <td>43807.729272</td>\n",
       "    </tr>\n",
       "    <tr>\n",
       "      <th>max</th>\n",
       "      <td>2654.322576</td>\n",
       "      <td>73554.233495</td>\n",
       "    </tr>\n",
       "  </tbody>\n",
       "</table>\n",
       "</div>"
      ],
      "text/plain": [
       "            balance        income\n",
       "count  10000.000000  10000.000000\n",
       "mean     835.374886  33516.981876\n",
       "std      483.714985  13336.639563\n",
       "min        0.000000    771.967729\n",
       "25%      481.731105  21340.462903\n",
       "50%      823.636973  34552.644802\n",
       "75%     1166.308386  43807.729272\n",
       "max     2654.322576  73554.233495"
      ]
     },
     "execution_count": 187,
     "metadata": {},
     "output_type": "execute_result"
    }
   ],
   "source": [
    "df.describe()"
   ]
  },
  {
   "cell_type": "markdown",
   "metadata": {},
   "source": [
    "### Método info()"
   ]
  },
  {
   "cell_type": "markdown",
   "metadata": {},
   "source": [
    "> Aplicamos este método para ver el tipo de dato y la cantidad de nulos de los atributos\n",
    "\n",
    "> Observamos que no tenemos ningún dato nulo."
   ]
  },
  {
   "cell_type": "code",
   "execution_count": 188,
   "metadata": {},
   "outputs": [
    {
     "name": "stdout",
     "output_type": "stream",
     "text": [
      "<class 'pandas.core.frame.DataFrame'>\n",
      "RangeIndex: 10000 entries, 0 to 9999\n",
      "Data columns (total 4 columns):\n",
      " #   Column   Non-Null Count  Dtype  \n",
      "---  ------   --------------  -----  \n",
      " 0   default  10000 non-null  object \n",
      " 1   student  10000 non-null  object \n",
      " 2   balance  10000 non-null  float64\n",
      " 3   income   10000 non-null  float64\n",
      "dtypes: float64(2), object(2)\n",
      "memory usage: 312.6+ KB\n"
     ]
    }
   ],
   "source": [
    "df.info()"
   ]
  },
  {
   "cell_type": "code",
   "execution_count": 189,
   "metadata": {},
   "outputs": [
    {
     "data": {
      "text/plain": [
       "array(['No', 'Yes'], dtype=object)"
      ]
     },
     "execution_count": 189,
     "metadata": {},
     "output_type": "execute_result"
    }
   ],
   "source": [
    "df[\"default\"].unique()"
   ]
  },
  {
   "cell_type": "markdown",
   "metadata": {},
   "source": [
    "### Relaciones entre atributos y el vector objetivo"
   ]
  },
  {
   "cell_type": "code",
   "execution_count": 190,
   "metadata": {},
   "outputs": [],
   "source": [
    "def get_pctje_morosos (df, var) :\n",
    "    moroso = df[df[var] == \"Yes\"]\n",
    "    not_moroso = df[df[var] == \"No\"]\n",
    "\n",
    "    print (\"Clientes morosos: %i (%.1f%%)\"%(len(moroso), float(len(moroso))/len(df)*100.0))\n",
    "    print (\"Clientes no morosos: %i (%.1f%%)\"%(len(not_moroso), float(len(not_moroso))/len(df)*100.0))\n",
    "    print (\"Total: %i\"%len(df))"
   ]
  },
  {
   "cell_type": "code",
   "execution_count": 191,
   "metadata": {},
   "outputs": [
    {
     "name": "stdout",
     "output_type": "stream",
     "text": [
      "Clientes morosos: 333 (3.3%)\n",
      "Clientes no morosos: 9667 (96.7%)\n",
      "Total: 10000\n"
     ]
    }
   ],
   "source": [
    "get_pctje_morosos (df, \"default\")"
   ]
  },
  {
   "cell_type": "markdown",
   "metadata": {},
   "source": [
    "### Student vs Default"
   ]
  },
  {
   "cell_type": "code",
   "execution_count": 192,
   "metadata": {},
   "outputs": [
    {
     "data": {
      "text/plain": [
       "No     7056\n",
       "Yes    2944\n",
       "Name: student, dtype: int64"
      ]
     },
     "execution_count": 192,
     "metadata": {},
     "output_type": "execute_result"
    }
   ],
   "source": [
    "df.student.value_counts()\n"
   ]
  },
  {
   "cell_type": "code",
   "execution_count": 193,
   "metadata": {},
   "outputs": [
    {
     "name": "stdout",
     "output_type": "stream",
     "text": [
      "default \n",
      " No     9667\n",
      "Yes     333\n",
      "Name: default, dtype: int64 \n",
      "\n"
     ]
    },
    {
     "data": {
      "image/png": "[encoded data removed]",
      "text/plain": [
       "<Figure size 640x480 with 1 Axes>"
      ]
     },
     "metadata": {},
     "output_type": "display_data"
    },
    {
     "name": "stdout",
     "output_type": "stream",
     "text": [
      "student \n",
      " No     7056\n",
      "Yes    2944\n",
      "Name: student, dtype: int64 \n",
      "\n"
     ]
    },
    {
     "data": {
      "image/png": "[encoded data removed]",
      "text/plain": [
       "<Figure size 640x480 with 1 Axes>"
      ]
     },
     "metadata": {},
     "output_type": "display_data"
    }
   ],
   "source": [
    "for i in df.select_dtypes(include='object').columns:\n",
    "    print(i, '\\n', df[i].value_counts(), '\\n')\n",
    "    vc = df[i].value_counts()\n",
    "    ax = vc.plot(kind='bar')\n",
    "    ax.set_title(i)\n",
    "    for p in ax.patches:\n",
    "        ax.annotate(str(p.get_height()), (p.get_x() + p.get_width() / 2, p.get_height() * 1.005), ha = \"center\")\n",
    "    plt.show()"
   ]
  },
  {
   "cell_type": "markdown",
   "metadata": {},
   "source": [
    "- El 1er gráfico, indica la cantidad de clientes morosos, en este caso de esta base de datos, tenemos un total de 333 clientes morosos.\n",
    "- El 2do gráfico indica si el cliente es estudiante o no, independiente de su morosidad, en este caso tenemos a casi 3000 estudiantes y a más de 7000 que no son estudiantes\n",
    "- El 3er gráfico indica si el cliente es moroso o no, diferenciando si es estudiante o no"
   ]
  },
  {
   "cell_type": "code",
   "execution_count": 194,
   "metadata": {},
   "outputs": [
    {
     "data": {
      "text/plain": [
       "Text(0, 0.5, 'Cantidad de clientes')"
      ]
     },
     "execution_count": 194,
     "metadata": {},
     "output_type": "execute_result"
    },
    {
     "data": {
      "image/png": "[encoded data removed]",
      "text/plain": [
       "<Figure size 640x480 with 1 Axes>"
      ]
     },
     "metadata": {},
     "output_type": "display_data"
    }
   ],
   "source": [
    "sns.countplot(x='student', hue='default', data=df)\n",
    "plt.title('Cantidad de clientes morosos y no morosos según si son estudiantes')\n",
    "plt.xlabel('¿Es estudiante?')\n",
    "plt.ylabel('Cantidad de clientes')"
   ]
  },
  {
   "cell_type": "markdown",
   "metadata": {},
   "source": [
    "### income vs default y balance vs default"
   ]
  },
  {
   "cell_type": "code",
   "execution_count": 195,
   "metadata": {},
   "outputs": [],
   "source": [
    "variables_numericas = [\"income\", \"balance\"]"
   ]
  },
  {
   "cell_type": "markdown",
   "metadata": {},
   "source": [
    "- Al visualizar los boxplots, se puede identificar rápidamente la presencia de valores atípicos en el atributo balance"
   ]
  },
  {
   "cell_type": "code",
   "execution_count": 196,
   "metadata": {},
   "outputs": [
    {
     "data": {
      "image/png": "[encoded data removed]",
      "text/plain": [
       "<Figure size 1000x500 with 2 Axes>"
      ]
     },
     "metadata": {},
     "output_type": "display_data"
    }
   ],
   "source": [
    "fig, axs = plt.subplots(nrows=1, ncols=len(df.select_dtypes(include='number').columns), figsize=(10, 5))\n",
    "\n",
    "for i, col in enumerate(df.select_dtypes(include='number').columns):\n",
    "    axs[i].boxplot(df[col].dropna())\n",
    "    axs[i].set_title(col)\n",
    "\n",
    "plt.tight_layout()\n",
    "plt.show()"
   ]
  },
  {
   "cell_type": "markdown",
   "metadata": {},
   "source": [
    "- Los gráficos generados muestran la distribución de las variables \"income\" y \"balance\" en la base de datos de clientes morosos del banco.\n",
    "\n",
    "- El primer gráfico muestra la distribución de ingresos de los clientes morosos. Podemos ver que la mayoría de los clientes tiene ingresos que se concentran en el rango de 0 a 50.000 dólares, con una pequeña cantidad de clientes que tienen ingresos más altos. La distribución es asimétrica hacia la derecha, lo que indica que hay pocos clientes con ingresos muy altos.\n",
    "\n",
    "- El segundo gráfico muestra la distribución del saldo en las cuentas de crédito de los clientes morosos. Podemos observar que la mayoría de los clientes tiene un saldo bajo, pero hay un pequeño grupo de clientes con un saldo muy alto en su cuenta de crédito. La distribución de saldos es también asimétrica hacia la derecha, lo que sugiere que hay un número relativamente pequeño de clientes con saldos muy altos."
   ]
  },
  {
   "cell_type": "code",
   "execution_count": 197,
   "metadata": {},
   "outputs": [
    {
     "data": {
      "image/png": "[encoded data removed]",
      "text/plain": [
       "<Figure size 1000x500 with 2 Axes>"
      ]
     },
     "metadata": {},
     "output_type": "display_data"
    }
   ],
   "source": [
    "fig, axes = plt.subplots(1, 2, figsize=(10, 5))\n",
    "\n",
    "sns.histplot(data=df, x=\"income\", ax=axes[0])\n",
    "axes[0].set_xlabel(\"Ingresos\")\n",
    "axes[0].set_ylabel(\"Frecuencia\")\n",
    "\n",
    "sns.histplot(data=df, x=\"balance\", ax=axes[1])\n",
    "axes[1].set_xlabel(\"Saldo\")\n",
    "axes[1].set_ylabel(\"Frecuencia\")\n",
    "\n",
    "plt.tight_layout()"
   ]
  },
  {
   "cell_type": "markdown",
   "metadata": {},
   "source": [
    "#### Feature extraction\n",
    "\n",
    "> Seleccionaremos los atributos adecuados para entrenar nuestros modelos\n",
    "\n",
    "> Crearemos nuevos atributos basados en los ya existentes\n",
    "\n",
    "> Convertiremos las variables categóricas en forma numérica"
   ]
  },
  {
   "cell_type": "code",
   "execution_count": 198,
   "metadata": {},
   "outputs": [],
   "source": [
    "le = LabelEncoder()\n",
    "\n",
    "df['default'] = le.fit_transform(df['default'])\n",
    "df['student'] = le.fit_transform(df['student'])"
   ]
  },
  {
   "cell_type": "code",
   "execution_count": 199,
   "metadata": {},
   "outputs": [
    {
     "data": {
      "text/html": [
       "<div>\n",
       "<style scoped>\n",
       "    .dataframe tbody tr th:only-of-type {\n",
       "        vertical-align: middle;\n",
       "    }\n",
       "\n",
       "    .dataframe tbody tr th {\n",
       "        vertical-align: top;\n",
       "    }\n",
       "\n",
       "    .dataframe thead th {\n",
       "        text-align: right;\n",
       "    }\n",
       "</style>\n",
       "<table border=\"1\" class=\"dataframe\">\n",
       "  <thead>\n",
       "    <tr style=\"text-align: right;\">\n",
       "      <th></th>\n",
       "      <th>default</th>\n",
       "      <th>student</th>\n",
       "      <th>balance</th>\n",
       "      <th>income</th>\n",
       "    </tr>\n",
       "  </thead>\n",
       "  <tbody>\n",
       "    <tr>\n",
       "      <th>0</th>\n",
       "      <td>0</td>\n",
       "      <td>0</td>\n",
       "      <td>729.526495</td>\n",
       "      <td>44361.625074</td>\n",
       "    </tr>\n",
       "    <tr>\n",
       "      <th>1</th>\n",
       "      <td>0</td>\n",
       "      <td>1</td>\n",
       "      <td>817.180407</td>\n",
       "      <td>12106.134700</td>\n",
       "    </tr>\n",
       "    <tr>\n",
       "      <th>2</th>\n",
       "      <td>0</td>\n",
       "      <td>0</td>\n",
       "      <td>1073.549164</td>\n",
       "      <td>31767.138947</td>\n",
       "    </tr>\n",
       "    <tr>\n",
       "      <th>3</th>\n",
       "      <td>0</td>\n",
       "      <td>0</td>\n",
       "      <td>529.250605</td>\n",
       "      <td>35704.493935</td>\n",
       "    </tr>\n",
       "    <tr>\n",
       "      <th>4</th>\n",
       "      <td>0</td>\n",
       "      <td>0</td>\n",
       "      <td>785.655883</td>\n",
       "      <td>38463.495879</td>\n",
       "    </tr>\n",
       "    <tr>\n",
       "      <th>...</th>\n",
       "      <td>...</td>\n",
       "      <td>...</td>\n",
       "      <td>...</td>\n",
       "      <td>...</td>\n",
       "    </tr>\n",
       "    <tr>\n",
       "      <th>9995</th>\n",
       "      <td>0</td>\n",
       "      <td>0</td>\n",
       "      <td>711.555020</td>\n",
       "      <td>52992.378914</td>\n",
       "    </tr>\n",
       "    <tr>\n",
       "      <th>9996</th>\n",
       "      <td>0</td>\n",
       "      <td>0</td>\n",
       "      <td>757.962918</td>\n",
       "      <td>19660.721768</td>\n",
       "    </tr>\n",
       "    <tr>\n",
       "      <th>9997</th>\n",
       "      <td>0</td>\n",
       "      <td>0</td>\n",
       "      <td>845.411989</td>\n",
       "      <td>58636.156984</td>\n",
       "    </tr>\n",
       "    <tr>\n",
       "      <th>9998</th>\n",
       "      <td>0</td>\n",
       "      <td>0</td>\n",
       "      <td>1569.009053</td>\n",
       "      <td>36669.112365</td>\n",
       "    </tr>\n",
       "    <tr>\n",
       "      <th>9999</th>\n",
       "      <td>0</td>\n",
       "      <td>1</td>\n",
       "      <td>200.922183</td>\n",
       "      <td>16862.952321</td>\n",
       "    </tr>\n",
       "  </tbody>\n",
       "</table>\n",
       "<p>10000 rows × 4 columns</p>\n",
       "</div>"
      ],
      "text/plain": [
       "      default  student      balance        income\n",
       "0           0        0   729.526495  44361.625074\n",
       "1           0        1   817.180407  12106.134700\n",
       "2           0        0  1073.549164  31767.138947\n",
       "3           0        0   529.250605  35704.493935\n",
       "4           0        0   785.655883  38463.495879\n",
       "...       ...      ...          ...           ...\n",
       "9995        0        0   711.555020  52992.378914\n",
       "9996        0        0   757.962918  19660.721768\n",
       "9997        0        0   845.411989  58636.156984\n",
       "9998        0        0  1569.009053  36669.112365\n",
       "9999        0        1   200.922183  16862.952321\n",
       "\n",
       "[10000 rows x 4 columns]"
      ]
     },
     "execution_count": 199,
     "metadata": {},
     "output_type": "execute_result"
    }
   ],
   "source": [
    "df"
   ]
  },
  {
   "cell_type": "markdown",
   "metadata": {},
   "source": [
    "## Modelación"
   ]
  },
  {
   "cell_type": "markdown",
   "metadata": {},
   "source": [
    "> Generamos muestras de entrenamiento y validación"
   ]
  },
  {
   "cell_type": "code",
   "execution_count": 200,
   "metadata": {},
   "outputs": [],
   "source": [
    "X = df.drop('default', axis=1)\n",
    "y = df['default']\n",
    "\n",
    "X_train_pre, X_test_pre, y_train, y_test = train_test_split(X, y, test_size=0.33, random_state=42)"
   ]
  },
  {
   "cell_type": "markdown",
   "metadata": {},
   "source": [
    "> Escalamos"
   ]
  },
  {
   "cell_type": "code",
   "execution_count": 201,
   "metadata": {},
   "outputs": [],
   "source": [
    "scaler = StandardScaler().fit(X_train_pre)\n",
    "X_train = pd.DataFrame (scaler.transform (X_train_pre), columns=X_train_pre.columns)\n",
    "X_test = pd.DataFrame (scaler.transform (X_test_pre), columns=X_test_pre.columns)"
   ]
  },
  {
   "cell_type": "markdown",
   "metadata": {},
   "source": [
    "> aplicamos LDA sin hiperparámetros"
   ]
  },
  {
   "cell_type": "code",
   "execution_count": 202,
   "metadata": {},
   "outputs": [
    {
     "name": "stdout",
     "output_type": "stream",
     "text": [
      "              precision    recall  f1-score   support\n",
      "\n",
      "           0       0.97      1.00      0.99      3190\n",
      "           1       0.79      0.25      0.38       110\n",
      "\n",
      "    accuracy                           0.97      3300\n",
      "   macro avg       0.88      0.62      0.68      3300\n",
      "weighted avg       0.97      0.97      0.97      3300\n",
      "\n"
     ]
    }
   ],
   "source": [
    "\n",
    "lda = LinearDiscriminantAnalysis()\n",
    "lda.fit(X_train, y_train)\n",
    "\n",
    "y_pred = lda.predict(X_test)\n",
    "\n",
    "print(classification_report(y_test, y_pred))"
   ]
  },
  {
   "cell_type": "markdown",
   "metadata": {},
   "source": [
    "- El modelo tiene un desempeño muy bueno en la predicción de la clase de no morosos, con todas sus métricas cercanas a 1\n",
    "    - Esto indica que el modelo está siendo capaz de identificar correctamente la gran mayoría de los clientes no morosos\n",
    "- Caso contrario sucede con la clase de morosos, sus métricas son bastante bajas\n",
    "    - Esto indica que el modelo tiene dificultades para identificar a los clientes que entraron en morosidad\n",
    "- En general, el modelo tiene una precisión promedio del 88%, pero hay un margen de mejora de los clientes morosos"
   ]
  },
  {
   "cell_type": "markdown",
   "metadata": {},
   "source": [
    "- Dado que trabajamos con modelos generativos, podemos incluir información exógena. Para este caso agregaremos dos distribuciones:\n",
    "    - Asumamos que hay un 50/50 de morosos y no morosos.\n",
    "    - Asumamos que hay un 60/40 de morosos y no morosos."
   ]
  },
  {
   "cell_type": "markdown",
   "metadata": {},
   "source": [
    "> 50/50 de morosos y no morosos"
   ]
  },
  {
   "cell_type": "code",
   "execution_count": 203,
   "metadata": {},
   "outputs": [],
   "source": [
    "lda_50_50 = LinearDiscriminantAnalysis(priors = [0.5, 0.5])\n",
    "lda_50_50.fit(X_train, y_train)\n",
    "\n",
    "y_pred_50_50 = lda_50_50.predict(X_test)"
   ]
  },
  {
   "cell_type": "markdown",
   "metadata": {},
   "source": [
    "> 60/40 de morosos y no morosos"
   ]
  },
  {
   "cell_type": "code",
   "execution_count": 204,
   "metadata": {},
   "outputs": [],
   "source": [
    "\n",
    "lda_60_40 = LinearDiscriminantAnalysis(priors = [0.6, 0.4])\n",
    "lda_60_40.fit(X_train, y_train)\n",
    "\n",
    "y_pred_60_40 = lda_60_40.predict(X_test)"
   ]
  },
  {
   "cell_type": "code",
   "execution_count": 205,
   "metadata": {},
   "outputs": [
    {
     "name": "stdout",
     "output_type": "stream",
     "text": [
      "Métricas del modelo 50/50 \n",
      "\n",
      "              precision    recall  f1-score   support\n",
      "\n",
      "           0       0.99      0.85      0.92      3190\n",
      "           1       0.17      0.87      0.28       110\n",
      "\n",
      "    accuracy                           0.85      3300\n",
      "   macro avg       0.58      0.86      0.60      3300\n",
      "weighted avg       0.97      0.85      0.89      3300\n",
      "\n",
      "Métricas del modelo 60/40 \n",
      "\n",
      "              precision    recall  f1-score   support\n",
      "\n",
      "           0       0.99      0.89      0.94      3190\n",
      "           1       0.21      0.85      0.33       110\n",
      "\n",
      "    accuracy                           0.89      3300\n",
      "   macro avg       0.60      0.87      0.63      3300\n",
      "weighted avg       0.97      0.89      0.92      3300\n",
      "\n"
     ]
    }
   ],
   "source": [
    "print (\"Métricas del modelo 50/50 \\n\")\n",
    "print(classification_report(y_test, y_pred_50_50))\n",
    "\n",
    "print (\"Métricas del modelo 60/40 \\n\")\n",
    "print(classification_report(y_test, y_pred_60_40))"
   ]
  },
  {
   "cell_type": "markdown",
   "metadata": {},
   "source": [
    "> Volveremos a entrenar el modelo con los datos aumentados de forma artificial."
   ]
  },
  {
   "cell_type": "code",
   "execution_count": 206,
   "metadata": {},
   "outputs": [],
   "source": [
    "from imblearn.over_sampling import SMOTE\n",
    "# Instanciamos la clase\n",
    "oversampler = SMOTE(random_state=11238, sampling_strategy=\"minority\")\n",
    "# generamos el eversampling de la matriz de entrenamiento y\n",
    "X_train_oversamp, y_train_oversamp = oversampler.fit_resample(X_train,y_train)"
   ]
  },
  {
   "cell_type": "code",
   "execution_count": 207,
   "metadata": {},
   "outputs": [],
   "source": [
    "lda_smote = LinearDiscriminantAnalysis()\n",
    "lda_smote.fit(X_train_oversamp, y_train_oversamp)\n",
    "\n",
    "y_pred_lda_smote = lda_smote.predict(X_test)\n"
   ]
  },
  {
   "cell_type": "code",
   "execution_count": 208,
   "metadata": {},
   "outputs": [
    {
     "name": "stdout",
     "output_type": "stream",
     "text": [
      "Métricas del modelo oversampling \n",
      "\n",
      "              precision    recall  f1-score   support\n",
      "\n",
      "           0       0.99      0.85      0.92      3190\n",
      "           1       0.17      0.87      0.28       110\n",
      "\n",
      "    accuracy                           0.85      3300\n",
      "   macro avg       0.58      0.86      0.60      3300\n",
      "weighted avg       0.97      0.85      0.90      3300\n",
      "\n"
     ]
    }
   ],
   "source": [
    "print (\"Métricas del modelo oversampling \\n\")\n",
    "print(classification_report(y_test, y_pred_lda_smote))"
   ]
  },
  {
   "cell_type": "markdown",
   "metadata": {},
   "source": [
    "- Vemos como el modelo mejora su capacidad para identificar correctamente a los clientes morosos aumentando el recall\n",
    "- Sin embargo, la precisión y el f1 disminuye, lo que significa que el modelo clasifica erróneamente a más clientes como morosos\n",
    "- En general SMOTE tienen un desempeño aceptable, pero no es perfecto y aún se puede mejorar"
   ]
  },
  {
   "cell_type": "markdown",
   "metadata": {},
   "source": [
    "> Implementaremos un modelo QuadraticDiscriminantAnalysis con los datos aumentados artificialmente."
   ]
  },
  {
   "cell_type": "code",
   "execution_count": 209,
   "metadata": {},
   "outputs": [
    {
     "name": "stdout",
     "output_type": "stream",
     "text": [
      "              precision    recall  f1-score   support\n",
      "\n",
      "           0       0.99      0.87      0.93      3190\n",
      "           1       0.18      0.85      0.30       110\n",
      "\n",
      "    accuracy                           0.86      3300\n",
      "   macro avg       0.59      0.86      0.61      3300\n",
      "weighted avg       0.97      0.86      0.90      3300\n",
      "\n"
     ]
    }
   ],
   "source": [
    "\n",
    "# Crear el modelo de QDA\n",
    "qda = QuadraticDiscriminantAnalysis()\n",
    "\n",
    "# Entrenar el modelo con los datos aumentados\n",
    "qda.fit(X_train_oversamp, y_train_oversamp)\n",
    "\n",
    "# Predecir los datos de validación\n",
    "y_pred_qda_aug = qda.predict(X_test)\n",
    "\n",
    "# Generar métricas de desempeño\n",
    "print(classification_report(y_test, y_pred_qda_aug))"
   ]
  },
  {
   "cell_type": "markdown",
   "metadata": {},
   "source": [
    "- En general, el modelo que muestra un mejor desempeño es el modelo 1, que utiliza LinearDiscriminantAnalysis sin información exógena. Este modelo tiene la mayor precisión y f1-score para la clase minoritaria (1), lo que indica que es mejor para predecir la morosidad.\n",
    "\n",
    "- Los otros modelos (modelo 2, 3 y 4) tienen un desempeño similar con precisión y f1-score bajos para la clase minoritaria, lo que indica que tienen dificultades para predecir la morosidad.\n",
    "\n",
    "- El modelo 5, que utiliza QuadraticDiscriminantAnalysis, tiene un desempeño aún peor que los modelos anteriores en términos de precisión y f1-score para la clase minoritaria.\n",
    "\n",
    "- Si nos enfocamos en la precisión, el mejor modelo para predecir a clientes morosos es el modelo 1\n",
    "\n",
    "- Si nos enfocamos en el recall, el mejor modelo para predecir a clientes morosos es el modelo 2 o el 4"
   ]
  },
  {
   "cell_type": "code",
   "execution_count": null,
   "metadata": {},
   "outputs": [],
   "source": []
  }
 ],
 "metadata": {
  "kernelspec": {
   "display_name": "base",
   "language": "python",
   "name": "python3"
  },
  "language_info": {
   "codemirror_mode": {
    "name": "ipython",
    "version": 3
   },
   "file_extension": ".py",
   "mimetype": "text/x-python",
   "name": "python",
   "nbconvert_exporter": "python",
   "pygments_lexer": "ipython3",
   "version": "3.9.13"
  },
  "orig_nbformat": 4
 },
 "nbformat": 4,
 "nbformat_minor": 2
}
